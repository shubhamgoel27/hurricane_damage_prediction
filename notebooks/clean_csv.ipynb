{
 "cells": [
  {
   "cell_type": "code",
   "execution_count": 1,
   "metadata": {},
   "outputs": [],
   "source": [
    "import pandas as pd "
   ]
  },
  {
   "cell_type": "code",
   "execution_count": 2,
   "metadata": {},
   "outputs": [],
   "source": [
    "data = pd.read_csv(\"../data/merged.csv\", index_col=0)"
   ]
  },
  {
   "cell_type": "code",
   "execution_count": 3,
   "metadata": {},
   "outputs": [
    {
     "data": {
      "text/html": [
       "<div>\n",
       "<style scoped>\n",
       "    .dataframe tbody tr th:only-of-type {\n",
       "        vertical-align: middle;\n",
       "    }\n",
       "\n",
       "    .dataframe tbody tr th {\n",
       "        vertical-align: top;\n",
       "    }\n",
       "\n",
       "    .dataframe thead th {\n",
       "        text-align: right;\n",
       "    }\n",
       "</style>\n",
       "<table border=\"1\" class=\"dataframe\">\n",
       "  <thead>\n",
       "    <tr style=\"text-align: right;\">\n",
       "      <th></th>\n",
       "      <th>hcad_num</th>\n",
       "      <th>currowner</th>\n",
       "      <th>locaddr</th>\n",
       "      <th>city</th>\n",
       "      <th>zip</th>\n",
       "      <th>locnum</th>\n",
       "      <th>locname</th>\n",
       "      <th>total_market_value</th>\n",
       "      <th>libpostal_query_x</th>\n",
       "      <th>libpostal_address</th>\n",
       "      <th>...</th>\n",
       "      <th>Orig_RE_Verified_Loss</th>\n",
       "      <th>Latitude</th>\n",
       "      <th>Longitude</th>\n",
       "      <th>Number</th>\n",
       "      <th>Street</th>\n",
       "      <th>City</th>\n",
       "      <th>County</th>\n",
       "      <th>Zip</th>\n",
       "      <th>libpostal_query_y</th>\n",
       "      <th>homes_matched</th>\n",
       "    </tr>\n",
       "  </thead>\n",
       "  <tbody>\n",
       "    <tr>\n",
       "      <th>1</th>\n",
       "      <td>11950000004</td>\n",
       "      <td>HBS WAREHOUSES</td>\n",
       "      <td>904 HUTCHINS ST</td>\n",
       "      <td>HOUSTON</td>\n",
       "      <td>77003.0</td>\n",
       "      <td>904</td>\n",
       "      <td>HUTCHINS</td>\n",
       "      <td>1300230.0</td>\n",
       "      <td>904 HUTCHINS ST, HOUSTON, TX, 77003.0</td>\n",
       "      <td>904 hutchins saint houston texas 77003.0</td>\n",
       "      <td>...</td>\n",
       "      <td>121515</td>\n",
       "      <td>29.751522</td>\n",
       "      <td>-95.354578</td>\n",
       "      <td>904</td>\n",
       "      <td>Hutchins St</td>\n",
       "      <td>Houston</td>\n",
       "      <td>Harris County</td>\n",
       "      <td>77003.0</td>\n",
       "      <td>904, Hutchins St, Houston, TX, 77003.0</td>\n",
       "      <td>M</td>\n",
       "    </tr>\n",
       "    <tr>\n",
       "      <th>2</th>\n",
       "      <td>30140000002</td>\n",
       "      <td>LOPEZ ANTONIA</td>\n",
       "      <td>218 VELASCO ST</td>\n",
       "      <td>HOUSTON</td>\n",
       "      <td>77003.0</td>\n",
       "      <td>218</td>\n",
       "      <td>VELASCO</td>\n",
       "      <td>157234.0</td>\n",
       "      <td>218 VELASCO ST, HOUSTON, TX, 77003.0</td>\n",
       "      <td>218 velasco saint houston texas 77003.0</td>\n",
       "      <td>...</td>\n",
       "      <td>60061</td>\n",
       "      <td>29.751360</td>\n",
       "      <td>-95.341983</td>\n",
       "      <td>218</td>\n",
       "      <td>Velasco St</td>\n",
       "      <td>Houston</td>\n",
       "      <td>Harris County</td>\n",
       "      <td>77003.0</td>\n",
       "      <td>218, Velasco St, Houston, TX, 77003.0</td>\n",
       "      <td>M</td>\n",
       "    </tr>\n",
       "    <tr>\n",
       "      <th>3</th>\n",
       "      <td>30640000006</td>\n",
       "      <td>BROUSSARD JOHNATHAN P</td>\n",
       "      <td>1409 PALMER ST</td>\n",
       "      <td>HOUSTON</td>\n",
       "      <td>77003.0</td>\n",
       "      <td>1409</td>\n",
       "      <td>PALMER</td>\n",
       "      <td>238177.0</td>\n",
       "      <td>1409 PALMER ST, HOUSTON, TX, 77003.0</td>\n",
       "      <td>1409 palmer saint houston texas 77003.0</td>\n",
       "      <td>...</td>\n",
       "      <td>71040</td>\n",
       "      <td>29.742599</td>\n",
       "      <td>-95.349448</td>\n",
       "      <td>1409</td>\n",
       "      <td>Palmer St</td>\n",
       "      <td>Houston</td>\n",
       "      <td>Harris County</td>\n",
       "      <td>77003.0</td>\n",
       "      <td>1409, Palmer St, Houston, TX, 77003.0</td>\n",
       "      <td>M</td>\n",
       "    </tr>\n",
       "    <tr>\n",
       "      <th>4</th>\n",
       "      <td>31420090006</td>\n",
       "      <td>PERALES RICARDO C</td>\n",
       "      <td>11501 DUMAS ST</td>\n",
       "      <td>HOUSTON</td>\n",
       "      <td>77034.0</td>\n",
       "      <td>11501</td>\n",
       "      <td>DUMAS</td>\n",
       "      <td>135962.0</td>\n",
       "      <td>11501 DUMAS ST, HOUSTON, TX, 77034.0</td>\n",
       "      <td>11501 dumas saint houston texas 77034.0</td>\n",
       "      <td>...</td>\n",
       "      <td>140163</td>\n",
       "      <td>29.627129</td>\n",
       "      <td>-95.217778</td>\n",
       "      <td>11501</td>\n",
       "      <td>Dumas St</td>\n",
       "      <td>Houston</td>\n",
       "      <td>Harris County</td>\n",
       "      <td>77034.0</td>\n",
       "      <td>11501, Dumas St, Houston, TX, 77034.0</td>\n",
       "      <td>M</td>\n",
       "    </tr>\n",
       "    <tr>\n",
       "      <th>5</th>\n",
       "      <td>32180000021</td>\n",
       "      <td>SANTOS DOLORES ST JOHN</td>\n",
       "      <td>305 PASCHALL ST</td>\n",
       "      <td>HOUSTON</td>\n",
       "      <td>77009.0</td>\n",
       "      <td>305</td>\n",
       "      <td>PASCHALL</td>\n",
       "      <td>111173.0</td>\n",
       "      <td>305 PASCHALL ST, HOUSTON, TX, 77009.0</td>\n",
       "      <td>305 paschall saint houston texas 77009.0</td>\n",
       "      <td>...</td>\n",
       "      <td>35213</td>\n",
       "      <td>29.777775</td>\n",
       "      <td>-95.365125</td>\n",
       "      <td>305</td>\n",
       "      <td>Paschall St</td>\n",
       "      <td>Houston</td>\n",
       "      <td>Harris County</td>\n",
       "      <td>77009.0</td>\n",
       "      <td>305, Paschall St, Houston, TX, 77009.0</td>\n",
       "      <td>M</td>\n",
       "    </tr>\n",
       "  </tbody>\n",
       "</table>\n",
       "<p>5 rows × 22 columns</p>\n",
       "</div>"
      ],
      "text/plain": [
       "      hcad_num               currowner          locaddr     city      zip  \\\n",
       "1  11950000004          HBS WAREHOUSES  904 HUTCHINS ST  HOUSTON  77003.0   \n",
       "2  30140000002           LOPEZ ANTONIA   218 VELASCO ST  HOUSTON  77003.0   \n",
       "3  30640000006   BROUSSARD JOHNATHAN P   1409 PALMER ST  HOUSTON  77003.0   \n",
       "4  31420090006       PERALES RICARDO C   11501 DUMAS ST  HOUSTON  77034.0   \n",
       "5  32180000021  SANTOS DOLORES ST JOHN  305 PASCHALL ST  HOUSTON  77009.0   \n",
       "\n",
       "   locnum   locname  total_market_value  \\\n",
       "1     904  HUTCHINS           1300230.0   \n",
       "2     218   VELASCO            157234.0   \n",
       "3    1409    PALMER            238177.0   \n",
       "4   11501     DUMAS            135962.0   \n",
       "5     305  PASCHALL            111173.0   \n",
       "\n",
       "                       libpostal_query_x  \\\n",
       "1  904 HUTCHINS ST, HOUSTON, TX, 77003.0   \n",
       "2   218 VELASCO ST, HOUSTON, TX, 77003.0   \n",
       "3   1409 PALMER ST, HOUSTON, TX, 77003.0   \n",
       "4   11501 DUMAS ST, HOUSTON, TX, 77034.0   \n",
       "5  305 PASCHALL ST, HOUSTON, TX, 77009.0   \n",
       "\n",
       "                          libpostal_address  ... Orig_RE_Verified_Loss  \\\n",
       "1  904 hutchins saint houston texas 77003.0  ...                121515   \n",
       "2   218 velasco saint houston texas 77003.0  ...                 60061   \n",
       "3   1409 palmer saint houston texas 77003.0  ...                 71040   \n",
       "4   11501 dumas saint houston texas 77034.0  ...                140163   \n",
       "5  305 paschall saint houston texas 77009.0  ...                 35213   \n",
       "\n",
       "    Latitude  Longitude  Number       Street     City         County      Zip  \\\n",
       "1  29.751522 -95.354578     904  Hutchins St  Houston  Harris County  77003.0   \n",
       "2  29.751360 -95.341983     218   Velasco St  Houston  Harris County  77003.0   \n",
       "3  29.742599 -95.349448    1409    Palmer St  Houston  Harris County  77003.0   \n",
       "4  29.627129 -95.217778   11501     Dumas St  Houston  Harris County  77034.0   \n",
       "5  29.777775 -95.365125     305  Paschall St  Houston  Harris County  77009.0   \n",
       "\n",
       "                        libpostal_query_y  homes_matched  \n",
       "1  904, Hutchins St, Houston, TX, 77003.0              M  \n",
       "2   218, Velasco St, Houston, TX, 77003.0              M  \n",
       "3   1409, Palmer St, Houston, TX, 77003.0              M  \n",
       "4   11501, Dumas St, Houston, TX, 77034.0              M  \n",
       "5  305, Paschall St, Houston, TX, 77009.0              M  \n",
       "\n",
       "[5 rows x 22 columns]"
      ]
     },
     "execution_count": 3,
     "metadata": {},
     "output_type": "execute_result"
    }
   ],
   "source": [
    "data.head()"
   ]
  },
  {
   "cell_type": "code",
   "execution_count": 4,
   "metadata": {},
   "outputs": [
    {
     "data": {
      "text/plain": [
       "Index(['hcad_num', 'currowner', 'locaddr', 'city', 'zip', 'locnum', 'locname',\n",
       "       'total_market_value', 'libpostal_query_x', 'libpostal_address',\n",
       "       'applicant_type', 'Individual_Address', 'Orig_RE_Verified_Loss',\n",
       "       'Latitude', 'Longitude', 'Number', 'Street', 'City', 'County', 'Zip',\n",
       "       'libpostal_query_y', 'homes_matched'],\n",
       "      dtype='object')"
      ]
     },
     "execution_count": 4,
     "metadata": {},
     "output_type": "execute_result"
    }
   ],
   "source": [
    "data.columns"
   ]
  },
  {
   "cell_type": "code",
   "execution_count": 5,
   "metadata": {},
   "outputs": [],
   "source": [
    "data['damage_ratio'] = data.Orig_RE_Verified_Loss/(data.total_market_value+0.0001)"
   ]
  },
  {
   "cell_type": "code",
   "execution_count": 6,
   "metadata": {},
   "outputs": [
    {
     "data": {
      "text/plain": [
       "count    1.531600e+04\n",
       "mean     2.477285e+04\n",
       "std      2.735151e+06\n",
       "min      6.933851e-07\n",
       "25%      2.169353e-01\n",
       "50%      3.928469e-01\n",
       "75%      6.492446e-01\n",
       "max      3.356600e+08\n",
       "Name: damage_ratio, dtype: float64"
      ]
     },
     "execution_count": 6,
     "metadata": {},
     "output_type": "execute_result"
    }
   ],
   "source": [
    "data['damage_ratio'].describe()"
   ]
  },
  {
   "cell_type": "code",
   "execution_count": 7,
   "metadata": {},
   "outputs": [
    {
     "data": {
      "text/html": [
       "<div>\n",
       "<style scoped>\n",
       "    .dataframe tbody tr th:only-of-type {\n",
       "        vertical-align: middle;\n",
       "    }\n",
       "\n",
       "    .dataframe tbody tr th {\n",
       "        vertical-align: top;\n",
       "    }\n",
       "\n",
       "    .dataframe thead th {\n",
       "        text-align: right;\n",
       "    }\n",
       "</style>\n",
       "<table border=\"1\" class=\"dataframe\">\n",
       "  <thead>\n",
       "    <tr style=\"text-align: right;\">\n",
       "      <th></th>\n",
       "      <th>Orig_RE_Verified_Loss</th>\n",
       "      <th>total_market_value</th>\n",
       "    </tr>\n",
       "  </thead>\n",
       "  <tbody>\n",
       "    <tr>\n",
       "      <th>count</th>\n",
       "      <td>15316.000000</td>\n",
       "      <td>1.531600e+04</td>\n",
       "    </tr>\n",
       "    <tr>\n",
       "      <th>mean</th>\n",
       "      <td>81359.137112</td>\n",
       "      <td>2.444420e+05</td>\n",
       "    </tr>\n",
       "    <tr>\n",
       "      <th>std</th>\n",
       "      <td>55774.034327</td>\n",
       "      <td>8.248968e+05</td>\n",
       "    </tr>\n",
       "    <tr>\n",
       "      <th>min</th>\n",
       "      <td>1.000000</td>\n",
       "      <td>0.000000e+00</td>\n",
       "    </tr>\n",
       "    <tr>\n",
       "      <th>25%</th>\n",
       "      <td>43312.750000</td>\n",
       "      <td>1.072252e+05</td>\n",
       "    </tr>\n",
       "    <tr>\n",
       "      <th>50%</th>\n",
       "      <td>75182.500000</td>\n",
       "      <td>1.594590e+05</td>\n",
       "    </tr>\n",
       "    <tr>\n",
       "      <th>75%</th>\n",
       "      <td>106045.250000</td>\n",
       "      <td>3.029495e+05</td>\n",
       "    </tr>\n",
       "    <tr>\n",
       "      <th>max</th>\n",
       "      <td>853733.000000</td>\n",
       "      <td>9.650000e+07</td>\n",
       "    </tr>\n",
       "  </tbody>\n",
       "</table>\n",
       "</div>"
      ],
      "text/plain": [
       "       Orig_RE_Verified_Loss  total_market_value\n",
       "count           15316.000000        1.531600e+04\n",
       "mean            81359.137112        2.444420e+05\n",
       "std             55774.034327        8.248968e+05\n",
       "min                 1.000000        0.000000e+00\n",
       "25%             43312.750000        1.072252e+05\n",
       "50%             75182.500000        1.594590e+05\n",
       "75%            106045.250000        3.029495e+05\n",
       "max            853733.000000        9.650000e+07"
      ]
     },
     "execution_count": 7,
     "metadata": {},
     "output_type": "execute_result"
    }
   ],
   "source": [
    "data[['Orig_RE_Verified_Loss', 'total_market_value']].describe()"
   ]
  },
  {
   "cell_type": "code",
   "execution_count": 8,
   "metadata": {},
   "outputs": [
    {
     "data": {
      "text/html": [
       "<div>\n",
       "<style scoped>\n",
       "    .dataframe tbody tr th:only-of-type {\n",
       "        vertical-align: middle;\n",
       "    }\n",
       "\n",
       "    .dataframe tbody tr th {\n",
       "        vertical-align: top;\n",
       "    }\n",
       "\n",
       "    .dataframe thead th {\n",
       "        text-align: right;\n",
       "    }\n",
       "</style>\n",
       "<table border=\"1\" class=\"dataframe\">\n",
       "  <thead>\n",
       "    <tr style=\"text-align: right;\">\n",
       "      <th></th>\n",
       "      <th>hcad_num</th>\n",
       "      <th>currowner</th>\n",
       "      <th>locaddr</th>\n",
       "      <th>city</th>\n",
       "      <th>zip</th>\n",
       "      <th>locnum</th>\n",
       "      <th>locname</th>\n",
       "      <th>total_market_value</th>\n",
       "      <th>libpostal_query_x</th>\n",
       "      <th>libpostal_address</th>\n",
       "      <th>...</th>\n",
       "      <th>Latitude</th>\n",
       "      <th>Longitude</th>\n",
       "      <th>Number</th>\n",
       "      <th>Street</th>\n",
       "      <th>City</th>\n",
       "      <th>County</th>\n",
       "      <th>Zip</th>\n",
       "      <th>libpostal_query_y</th>\n",
       "      <th>homes_matched</th>\n",
       "      <th>damage_ratio</th>\n",
       "    </tr>\n",
       "  </thead>\n",
       "  <tbody>\n",
       "    <tr>\n",
       "      <th>1</th>\n",
       "      <td>11950000004</td>\n",
       "      <td>HBS WAREHOUSES</td>\n",
       "      <td>904 HUTCHINS ST</td>\n",
       "      <td>HOUSTON</td>\n",
       "      <td>77003.0</td>\n",
       "      <td>904</td>\n",
       "      <td>HUTCHINS</td>\n",
       "      <td>1300230.0</td>\n",
       "      <td>904 HUTCHINS ST, HOUSTON, TX, 77003.0</td>\n",
       "      <td>904 hutchins saint houston texas 77003.0</td>\n",
       "      <td>...</td>\n",
       "      <td>29.751522</td>\n",
       "      <td>-95.354578</td>\n",
       "      <td>904</td>\n",
       "      <td>Hutchins St</td>\n",
       "      <td>Houston</td>\n",
       "      <td>Harris County</td>\n",
       "      <td>77003.0</td>\n",
       "      <td>904, Hutchins St, Houston, TX, 77003.0</td>\n",
       "      <td>M</td>\n",
       "      <td>0.093457</td>\n",
       "    </tr>\n",
       "    <tr>\n",
       "      <th>2</th>\n",
       "      <td>30140000002</td>\n",
       "      <td>LOPEZ ANTONIA</td>\n",
       "      <td>218 VELASCO ST</td>\n",
       "      <td>HOUSTON</td>\n",
       "      <td>77003.0</td>\n",
       "      <td>218</td>\n",
       "      <td>VELASCO</td>\n",
       "      <td>157234.0</td>\n",
       "      <td>218 VELASCO ST, HOUSTON, TX, 77003.0</td>\n",
       "      <td>218 velasco saint houston texas 77003.0</td>\n",
       "      <td>...</td>\n",
       "      <td>29.751360</td>\n",
       "      <td>-95.341983</td>\n",
       "      <td>218</td>\n",
       "      <td>Velasco St</td>\n",
       "      <td>Houston</td>\n",
       "      <td>Harris County</td>\n",
       "      <td>77003.0</td>\n",
       "      <td>218, Velasco St, Houston, TX, 77003.0</td>\n",
       "      <td>M</td>\n",
       "      <td>0.381985</td>\n",
       "    </tr>\n",
       "    <tr>\n",
       "      <th>3</th>\n",
       "      <td>30640000006</td>\n",
       "      <td>BROUSSARD JOHNATHAN P</td>\n",
       "      <td>1409 PALMER ST</td>\n",
       "      <td>HOUSTON</td>\n",
       "      <td>77003.0</td>\n",
       "      <td>1409</td>\n",
       "      <td>PALMER</td>\n",
       "      <td>238177.0</td>\n",
       "      <td>1409 PALMER ST, HOUSTON, TX, 77003.0</td>\n",
       "      <td>1409 palmer saint houston texas 77003.0</td>\n",
       "      <td>...</td>\n",
       "      <td>29.742599</td>\n",
       "      <td>-95.349448</td>\n",
       "      <td>1409</td>\n",
       "      <td>Palmer St</td>\n",
       "      <td>Houston</td>\n",
       "      <td>Harris County</td>\n",
       "      <td>77003.0</td>\n",
       "      <td>1409, Palmer St, Houston, TX, 77003.0</td>\n",
       "      <td>M</td>\n",
       "      <td>0.298266</td>\n",
       "    </tr>\n",
       "  </tbody>\n",
       "</table>\n",
       "<p>3 rows × 23 columns</p>\n",
       "</div>"
      ],
      "text/plain": [
       "      hcad_num              currowner          locaddr     city      zip  \\\n",
       "1  11950000004         HBS WAREHOUSES  904 HUTCHINS ST  HOUSTON  77003.0   \n",
       "2  30140000002          LOPEZ ANTONIA   218 VELASCO ST  HOUSTON  77003.0   \n",
       "3  30640000006  BROUSSARD JOHNATHAN P   1409 PALMER ST  HOUSTON  77003.0   \n",
       "\n",
       "   locnum   locname  total_market_value  \\\n",
       "1     904  HUTCHINS           1300230.0   \n",
       "2     218   VELASCO            157234.0   \n",
       "3    1409    PALMER            238177.0   \n",
       "\n",
       "                       libpostal_query_x  \\\n",
       "1  904 HUTCHINS ST, HOUSTON, TX, 77003.0   \n",
       "2   218 VELASCO ST, HOUSTON, TX, 77003.0   \n",
       "3   1409 PALMER ST, HOUSTON, TX, 77003.0   \n",
       "\n",
       "                          libpostal_address  ...   Latitude  Longitude  \\\n",
       "1  904 hutchins saint houston texas 77003.0  ...  29.751522 -95.354578   \n",
       "2   218 velasco saint houston texas 77003.0  ...  29.751360 -95.341983   \n",
       "3   1409 palmer saint houston texas 77003.0  ...  29.742599 -95.349448   \n",
       "\n",
       "   Number       Street     City         County      Zip  \\\n",
       "1     904  Hutchins St  Houston  Harris County  77003.0   \n",
       "2     218   Velasco St  Houston  Harris County  77003.0   \n",
       "3    1409    Palmer St  Houston  Harris County  77003.0   \n",
       "\n",
       "                        libpostal_query_y homes_matched  damage_ratio  \n",
       "1  904, Hutchins St, Houston, TX, 77003.0             M      0.093457  \n",
       "2   218, Velasco St, Houston, TX, 77003.0             M      0.381985  \n",
       "3   1409, Palmer St, Houston, TX, 77003.0             M      0.298266  \n",
       "\n",
       "[3 rows x 23 columns]"
      ]
     },
     "execution_count": 8,
     "metadata": {},
     "output_type": "execute_result"
    }
   ],
   "source": [
    "data.head(3)"
   ]
  },
  {
   "cell_type": "code",
   "execution_count": 18,
   "metadata": {},
   "outputs": [
    {
     "data": {
      "text/plain": [
       "Index(['hcad_num', 'currowner', 'locaddr', 'city', 'zip', 'locnum', 'locname',\n",
       "       'total_market_value', 'libpostal_query_x', 'libpostal_address',\n",
       "       'applicant_type', 'Individual_Address', 'Orig_RE_Verified_Loss',\n",
       "       'Latitude', 'Longitude', 'Number', 'Street', 'City', 'County', 'Zip',\n",
       "       'libpostal_query_y', 'homes_matched', 'damage_ratio'],\n",
       "      dtype='object')"
      ]
     },
     "execution_count": 18,
     "metadata": {},
     "output_type": "execute_result"
    }
   ],
   "source": [
    "data.columns"
   ]
  },
  {
   "cell_type": "code",
   "execution_count": 9,
   "metadata": {},
   "outputs": [],
   "source": [
    "data.to_csv(\"../data/damage_values.csv\", columns=['hcad_num', 'Number', 'Street', 'City', 'County', 'Zip','Latitude', 'Longitude', 'total_market_value', 'Orig_RE_Verified_Loss', 'damage_ratio'])"
   ]
  },
  {
   "cell_type": "code",
   "execution_count": 21,
   "metadata": {},
   "outputs": [
    {
     "data": {
      "text/plain": [
       "<matplotlib.axes._subplots.AxesSubplot at 0x7ff18138d080>"
      ]
     },
     "execution_count": 21,
     "metadata": {},
     "output_type": "execute_result"
    },
    {
     "data": {
      "image/png": "[encoded data removed]",
      "text/plain": [
       "<Figure size 432x288 with 1 Axes>"
      ]
     },
     "metadata": {
      "needs_background": "light"
     },
     "output_type": "display_data"
    }
   ],
   "source": [
    "data.boxplot(\"damage_ratio\")"
   ]
  },
  {
   "cell_type": "code",
   "execution_count": 22,
   "metadata": {},
   "outputs": [],
   "source": [
    "import seaborn as sns"
   ]
  },
  {
   "cell_type": "code",
   "execution_count": 32,
   "metadata": {},
   "outputs": [
    {
     "data": {
      "text/plain": [
       "<matplotlib.axes._subplots.AxesSubplot at 0x7ff1842b9cf8>"
      ]
     },
     "execution_count": 32,
     "metadata": {},
     "output_type": "execute_result"
    },
    {
     "data": {
      "image/png": "[encoded data removed]",
      "text/plain": [
       "<Figure size 432x288 with 1 Axes>"
      ]
     },
     "metadata": {
      "needs_background": "light"
     },
     "output_type": "display_data"
    }
   ],
   "source": [
    "sns.boxplot(data.damage_ratio, showfliers=False)"
   ]
  },
  {
   "cell_type": "code",
   "execution_count": 25,
   "metadata": {},
   "outputs": [],
   "source": [
    "from matplotlib import pyplot as plt "
   ]
  },
  {
   "cell_type": "code",
   "execution_count": 27,
   "metadata": {},
   "outputs": [
    {
     "data": {
      "text/plain": [
       "(array([1195., 2162., 2455., 1980., 1742., 1351., 1141.,  798.,  582.,\n",
       "         423.]),\n",
       " array([0. , 0.1, 0.2, 0.3, 0.4, 0.5, 0.6, 0.7, 0.8, 0.9, 1. ]),\n",
       " <a list of 10 Patch objects>)"
      ]
     },
     "execution_count": 27,
     "metadata": {},
     "output_type": "execute_result"
    },
    {
     "data": {
      "image/png": "[encoded data removed]",
      "text/plain": [
       "<Figure size 432x288 with 1 Axes>"
      ]
     },
     "metadata": {
      "needs_background": "light"
     },
     "output_type": "display_data"
    }
   ],
   "source": [
    "plt.hist(data.damage_ratio, range=(0,1))"
   ]
  },
  {
   "cell_type": "code",
   "execution_count": 35,
   "metadata": {},
   "outputs": [
    {
     "data": {
      "text/plain": [
       "<matplotlib.axes._subplots.AxesSubplot at 0x7ff184b65208>"
      ]
     },
     "execution_count": 35,
     "metadata": {},
     "output_type": "execute_result"
    },
    {
     "data": {
      "image/png": "[encoded data removed]",
      "text/plain": [
       "<Figure size 432x288 with 1 Axes>"
      ]
     },
     "metadata": {
      "needs_background": "light"
     },
     "output_type": "display_data"
    }
   ],
   "source": [
    "sns.boxplot(x = 'County', y = 'damage_ratio', data = data, showfliers=False) "
   ]
  },
  {
   "cell_type": "code",
   "execution_count": 36,
   "metadata": {},
   "outputs": [
    {
     "data": {
      "text/plain": [
       "Harris County       15315\n",
       "Fort Bend County        1\n",
       "Name: County, dtype: int64"
      ]
     },
     "execution_count": 36,
     "metadata": {},
     "output_type": "execute_result"
    }
   ],
   "source": [
    "data.County.value_counts()"
   ]
  },
  {
   "cell_type": "code",
   "execution_count": 37,
   "metadata": {},
   "outputs": [
    {
     "data": {
      "text/plain": [
       "Houston          10142\n",
       "Spring             686\n",
       "Humble             585\n",
       "Kingwood           510\n",
       "Katy               501\n",
       "Cypress            437\n",
       "Friendswood        413\n",
       "Baytown            409\n",
       "Pasadena           404\n",
       "Bellaire           289\n",
       "Crosby             144\n",
       "Huffman            133\n",
       "La Porte           132\n",
       "Tomball            131\n",
       "South Houston      111\n",
       "Channelview         66\n",
       "Webster             49\n",
       "Highlands           47\n",
       "Seabrook            32\n",
       "Deer Park           29\n",
       "Pearland            26\n",
       "Galena Park         20\n",
       "Missouri City        5\n",
       "Hockley              5\n",
       "Stafford             3\n",
       "New Caney            3\n",
       "Waller               2\n",
       "Porter               2\n",
       "Name: City, dtype: int64"
      ]
     },
     "execution_count": 37,
     "metadata": {},
     "output_type": "execute_result"
    }
   ],
   "source": [
    "data.City.value_counts()"
   ]
  },
  {
   "cell_type": "code",
   "execution_count": 39,
   "metadata": {},
   "outputs": [
    {
     "data": {
      "text/plain": [
       "<matplotlib.axes._subplots.AxesSubplot at 0x7ff185c21550>"
      ]
     },
     "execution_count": 39,
     "metadata": {},
     "output_type": "execute_result"
    },
    {
     "data": {
      "image/png": "[encoded data removed]",
      "text/plain": [
       "<Figure size 432x288 with 1 Axes>"
      ]
     },
     "metadata": {
      "needs_background": "light"
     },
     "output_type": "display_data"
    }
   ],
   "source": [
    "sns.boxplot(x = 'City', y = 'damage_ratio', data = data, showfliers=False) "
   ]
  },
  {
   "cell_type": "code",
   "execution_count": null,
   "metadata": {},
   "outputs": [],
   "source": []
  }
 ],
 "metadata": {
  "kernelspec": {
   "display_name": "Python 3",
   "language": "python",
   "name": "python3"
  },
  "language_info": {
   "codemirror_mode": {
    "name": "ipython",
    "version": 3
   },
   "file_extension": ".py",
   "mimetype": "text/x-python",
   "name": "python",
   "nbconvert_exporter": "python",
   "pygments_lexer": "ipython3",
   "version": "3.6.11"
  },
  "toc": {
   "base_numbering": 1,
   "nav_menu": {},
   "number_sections": true,
   "sideBar": true,
   "skip_h1_title": false,
   "title_cell": "Table of Contents",
   "title_sidebar": "Contents",
   "toc_cell": false,
   "toc_position": {},
   "toc_section_display": true,
   "toc_window_display": false
  },
  "varInspector": {
   "cols": {
    "lenName": 16,
    "lenType": 16,
    "lenVar": 40
   },
   "kernels_config": {
    "python": {
     "delete_cmd_postfix": "",
     "delete_cmd_prefix": "del ",
     "library": "var_list.py",
     "varRefreshCmd": "print(var_dic_list())"
    },
    "r": {
     "delete_cmd_postfix": ") ",
     "delete_cmd_prefix": "rm(",
     "library": "var_list.r",
     "varRefreshCmd": "cat(var_dic_list()) "
    }
   },
   "types_to_exclude": [
    "module",
    "function",
    "builtin_function_or_method",
    "instance",
    "_Feature"
   ],
   "window_display": false
  }
 },
 "nbformat": 4,
 "nbformat_minor": 4
}
