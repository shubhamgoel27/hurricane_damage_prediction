{
 "cells": [
  {
   "cell_type": "markdown",
   "metadata": {},
   "source": [
    "# Importing libraries"
   ]
  },
  {
   "cell_type": "code",
   "execution_count": 1,
   "metadata": {},
   "outputs": [],
   "source": [
    "import pandas as pd \n",
    "import numpy as np "
   ]
  },
  {
   "cell_type": "code",
   "execution_count": 2,
   "metadata": {},
   "outputs": [
    {
     "data": {
      "text/plain": [
       "'/Users/shubham/work/hurricane_damage_prediction'"
      ]
     },
     "execution_count": 2,
     "metadata": {},
     "output_type": "execute_result"
    }
   ],
   "source": [
    "import os, sys, glob, shutil\n",
    "os.chdir(os.path.dirname(os.getcwd()))\n",
    "os.getcwd()"
   ]
  },
  {
   "cell_type": "code",
   "execution_count": 13,
   "metadata": {},
   "outputs": [],
   "source": [
    "from geocodio import GeocodioClient\n",
    "from geocodio.exceptions import GeocodioDataError"
   ]
  },
  {
   "cell_type": "markdown",
   "metadata": {},
   "source": [
    "# Loading and processing data"
   ]
  },
  {
   "cell_type": "code",
   "execution_count": 5,
   "metadata": {},
   "outputs": [
    {
     "name": "stderr",
     "output_type": "stream",
     "text": [
      "/Users/shubham/anaconda3/envs/hurricane/lib/python3.6/site-packages/IPython/core/interactiveshell.py:3051: DtypeWarning: Columns (43,46,47,50,55,56,57) have mixed types.Specify dtype option on import or set low_memory=False.\n",
      "  interactivity=interactivity, compiler=compiler, result=result)\n"
     ]
    }
   ],
   "source": [
    "address = pd.read_csv(\"data/addresses_and_losses.csv\")"
   ]
  },
  {
   "cell_type": "code",
   "execution_count": 6,
   "metadata": {},
   "outputs": [
    {
     "data": {
      "text/html": [
       "<div>\n",
       "<style scoped>\n",
       "    .dataframe tbody tr th:only-of-type {\n",
       "        vertical-align: middle;\n",
       "    }\n",
       "\n",
       "    .dataframe tbody tr th {\n",
       "        vertical-align: top;\n",
       "    }\n",
       "\n",
       "    .dataframe thead th {\n",
       "        text-align: right;\n",
       "    }\n",
       "</style>\n",
       "<table border=\"1\" class=\"dataframe\">\n",
       "  <thead>\n",
       "    <tr style=\"text-align: right;\">\n",
       "      <th></th>\n",
       "      <th>applicant_type</th>\n",
       "      <th>Individual_Address</th>\n",
       "      <th>Individual_City</th>\n",
       "      <th>Individual_State</th>\n",
       "      <th>Individual_Zip</th>\n",
       "      <th>Business_Address</th>\n",
       "      <th>Business_City</th>\n",
       "      <th>Business_State</th>\n",
       "      <th>Business_Zip</th>\n",
       "      <th>Disaster_Id</th>\n",
       "      <th>...</th>\n",
       "      <th>FF_UP52_V</th>\n",
       "      <th>LEI_UP53_V</th>\n",
       "      <th>VEH_UP54_V</th>\n",
       "      <th>VES_UP55_V</th>\n",
       "      <th>ACF_UP56_V</th>\n",
       "      <th>RR_UP58_V</th>\n",
       "      <th>RM_UP59_V</th>\n",
       "      <th>WC_UP60_V</th>\n",
       "      <th>WC_UP61_V</th>\n",
       "      <th>NP_UP62_V</th>\n",
       "    </tr>\n",
       "  </thead>\n",
       "  <tbody>\n",
       "    <tr>\n",
       "      <th>0</th>\n",
       "      <td>Household</td>\n",
       "      <td>314 CUT OFF ROAD</td>\n",
       "      <td>PORT ARANSAS</td>\n",
       "      <td>TX</td>\n",
       "      <td>78373.0</td>\n",
       "      <td>NaN</td>\n",
       "      <td>NaN</td>\n",
       "      <td>NaN</td>\n",
       "      <td>NaN</td>\n",
       "      <td>1008079</td>\n",
       "      <td>...</td>\n",
       "      <td>NaN</td>\n",
       "      <td>NaN</td>\n",
       "      <td>NaN</td>\n",
       "      <td>NaN</td>\n",
       "      <td>NaN</td>\n",
       "      <td>NaN</td>\n",
       "      <td>NaN</td>\n",
       "      <td>NaN</td>\n",
       "      <td>NaN</td>\n",
       "      <td>NaN</td>\n",
       "    </tr>\n",
       "    <tr>\n",
       "      <th>1</th>\n",
       "      <td>Business</td>\n",
       "      <td>NaN</td>\n",
       "      <td>NaN</td>\n",
       "      <td>NaN</td>\n",
       "      <td>NaN</td>\n",
       "      <td>314 CUT OFF RD</td>\n",
       "      <td>PORT ARANSAS</td>\n",
       "      <td>TX</td>\n",
       "      <td>78373.0</td>\n",
       "      <td>1008079</td>\n",
       "      <td>...</td>\n",
       "      <td>NaN</td>\n",
       "      <td>NaN</td>\n",
       "      <td>NaN</td>\n",
       "      <td>NaN</td>\n",
       "      <td>NaN</td>\n",
       "      <td>NaN</td>\n",
       "      <td>NaN</td>\n",
       "      <td>NaN</td>\n",
       "      <td>NaN</td>\n",
       "      <td>NaN</td>\n",
       "    </tr>\n",
       "    <tr>\n",
       "      <th>2</th>\n",
       "      <td>Household</td>\n",
       "      <td>5901 HORIZON DRIVE</td>\n",
       "      <td>CORPUS CHRISTI</td>\n",
       "      <td>TX</td>\n",
       "      <td>78408.0</td>\n",
       "      <td>NaN</td>\n",
       "      <td>NaN</td>\n",
       "      <td>NaN</td>\n",
       "      <td>NaN</td>\n",
       "      <td>1008079</td>\n",
       "      <td>...</td>\n",
       "      <td>NaN</td>\n",
       "      <td>NaN</td>\n",
       "      <td>NaN</td>\n",
       "      <td>NaN</td>\n",
       "      <td>NaN</td>\n",
       "      <td>NaN</td>\n",
       "      <td>NaN</td>\n",
       "      <td>NaN</td>\n",
       "      <td>NaN</td>\n",
       "      <td>NaN</td>\n",
       "    </tr>\n",
       "    <tr>\n",
       "      <th>3</th>\n",
       "      <td>Household</td>\n",
       "      <td>622 JAMES ST</td>\n",
       "      <td>REFUGIO</td>\n",
       "      <td>TX</td>\n",
       "      <td>78377.0</td>\n",
       "      <td>NaN</td>\n",
       "      <td>NaN</td>\n",
       "      <td>NaN</td>\n",
       "      <td>NaN</td>\n",
       "      <td>1008079</td>\n",
       "      <td>...</td>\n",
       "      <td>NaN</td>\n",
       "      <td>NaN</td>\n",
       "      <td>NaN</td>\n",
       "      <td>NaN</td>\n",
       "      <td>NaN</td>\n",
       "      <td>NaN</td>\n",
       "      <td>NaN</td>\n",
       "      <td>NaN</td>\n",
       "      <td>NaN</td>\n",
       "      <td>NaN</td>\n",
       "    </tr>\n",
       "    <tr>\n",
       "      <th>4</th>\n",
       "      <td>Household</td>\n",
       "      <td>RV PARK AVE # 44</td>\n",
       "      <td>CORPUS CHRISTI</td>\n",
       "      <td>TX</td>\n",
       "      <td>78401.0</td>\n",
       "      <td>NaN</td>\n",
       "      <td>NaN</td>\n",
       "      <td>NaN</td>\n",
       "      <td>NaN</td>\n",
       "      <td>1008079</td>\n",
       "      <td>...</td>\n",
       "      <td>NaN</td>\n",
       "      <td>NaN</td>\n",
       "      <td>NaN</td>\n",
       "      <td>NaN</td>\n",
       "      <td>NaN</td>\n",
       "      <td>NaN</td>\n",
       "      <td>NaN</td>\n",
       "      <td>NaN</td>\n",
       "      <td>NaN</td>\n",
       "      <td>NaN</td>\n",
       "    </tr>\n",
       "  </tbody>\n",
       "</table>\n",
       "<p>5 rows × 63 columns</p>\n",
       "</div>"
      ],
      "text/plain": [
       "  applicant_type  Individual_Address Individual_City Individual_State  \\\n",
       "0      Household    314 CUT OFF ROAD    PORT ARANSAS               TX   \n",
       "1       Business                 NaN             NaN              NaN   \n",
       "2      Household  5901 HORIZON DRIVE  CORPUS CHRISTI               TX   \n",
       "3      Household        622 JAMES ST         REFUGIO               TX   \n",
       "4      Household    RV PARK AVE # 44  CORPUS CHRISTI               TX   \n",
       "\n",
       "   Individual_Zip Business_Address Business_City Business_State  Business_Zip  \\\n",
       "0         78373.0              NaN           NaN            NaN           NaN   \n",
       "1             NaN   314 CUT OFF RD  PORT ARANSAS             TX       78373.0   \n",
       "2         78408.0              NaN           NaN            NaN           NaN   \n",
       "3         78377.0              NaN           NaN            NaN           NaN   \n",
       "4         78401.0              NaN           NaN            NaN           NaN   \n",
       "\n",
       "   Disaster_Id  ... FF_UP52_V LEI_UP53_V VEH_UP54_V  VES_UP55_V  ACF_UP56_V  \\\n",
       "0      1008079  ...       NaN        NaN        NaN         NaN         NaN   \n",
       "1      1008079  ...       NaN        NaN        NaN         NaN         NaN   \n",
       "2      1008079  ...       NaN        NaN        NaN         NaN         NaN   \n",
       "3      1008079  ...       NaN        NaN        NaN         NaN         NaN   \n",
       "4      1008079  ...       NaN        NaN        NaN         NaN         NaN   \n",
       "\n",
       "   RR_UP58_V  RM_UP59_V  WC_UP60_V  WC_UP61_V  NP_UP62_V  \n",
       "0        NaN        NaN        NaN        NaN        NaN  \n",
       "1        NaN        NaN        NaN        NaN        NaN  \n",
       "2        NaN        NaN        NaN        NaN        NaN  \n",
       "3        NaN        NaN        NaN        NaN        NaN  \n",
       "4        NaN        NaN        NaN        NaN        NaN  \n",
       "\n",
       "[5 rows x 63 columns]"
      ]
     },
     "execution_count": 6,
     "metadata": {},
     "output_type": "execute_result"
    }
   ],
   "source": [
    "address.head()"
   ]
  },
  {
   "cell_type": "code",
   "execution_count": 7,
   "metadata": {},
   "outputs": [],
   "source": [
    "damage_data = address[[\"applicant_type\", \"Individual_Address\", \"Individual_City\", \"Individual_State\", \"Individual_Zip\", \"Orig_RE_Verified_Loss\"]]"
   ]
  },
  {
   "cell_type": "markdown",
   "metadata": {},
   "source": [
    "Removing rows which consists of NA values. Considering NA values to be \"not recorded\" for now. Further analysis might be needed to check if NA Loss means 0 loss."
   ]
  },
  {
   "cell_type": "code",
   "execution_count": 8,
   "metadata": {},
   "outputs": [
    {
     "name": "stderr",
     "output_type": "stream",
     "text": [
      "/Users/shubham/anaconda3/envs/hurricane/lib/python3.6/site-packages/ipykernel_launcher.py:1: SettingWithCopyWarning: \n",
      "A value is trying to be set on a copy of a slice from a DataFrame\n",
      "\n",
      "See the caveats in the documentation: https://pandas.pydata.org/pandas-docs/stable/user_guide/indexing.html#returning-a-view-versus-a-copy\n",
      "  \"\"\"Entry point for launching an IPython kernel.\n"
     ]
    }
   ],
   "source": [
    "damage_data.dropna(subset=['Individual_Address', 'Orig_RE_Verified_Loss'], inplace=True)"
   ]
  },
  {
   "cell_type": "code",
   "execution_count": 9,
   "metadata": {
    "scrolled": true
   },
   "outputs": [
    {
     "data": {
      "text/html": [
       "<div>\n",
       "<style scoped>\n",
       "    .dataframe tbody tr th:only-of-type {\n",
       "        vertical-align: middle;\n",
       "    }\n",
       "\n",
       "    .dataframe tbody tr th {\n",
       "        vertical-align: top;\n",
       "    }\n",
       "\n",
       "    .dataframe thead th {\n",
       "        text-align: right;\n",
       "    }\n",
       "</style>\n",
       "<table border=\"1\" class=\"dataframe\">\n",
       "  <thead>\n",
       "    <tr style=\"text-align: right;\">\n",
       "      <th></th>\n",
       "      <th>applicant_type</th>\n",
       "      <th>Individual_Address</th>\n",
       "      <th>Individual_City</th>\n",
       "      <th>Individual_State</th>\n",
       "      <th>Individual_Zip</th>\n",
       "      <th>Orig_RE_Verified_Loss</th>\n",
       "    </tr>\n",
       "  </thead>\n",
       "  <tbody>\n",
       "    <tr>\n",
       "      <th>0</th>\n",
       "      <td>Household</td>\n",
       "      <td>314 CUT OFF ROAD</td>\n",
       "      <td>PORT ARANSAS</td>\n",
       "      <td>TX</td>\n",
       "      <td>78373.0</td>\n",
       "      <td>58999.0</td>\n",
       "    </tr>\n",
       "    <tr>\n",
       "      <th>2</th>\n",
       "      <td>Household</td>\n",
       "      <td>5901 HORIZON DRIVE</td>\n",
       "      <td>CORPUS CHRISTI</td>\n",
       "      <td>TX</td>\n",
       "      <td>78408.0</td>\n",
       "      <td>2563.0</td>\n",
       "    </tr>\n",
       "    <tr>\n",
       "      <th>7</th>\n",
       "      <td>Household</td>\n",
       "      <td>1202 MESQUITE ST SPACE 546</td>\n",
       "      <td>FULTON</td>\n",
       "      <td>TX</td>\n",
       "      <td>78358.0</td>\n",
       "      <td>26823.0</td>\n",
       "    </tr>\n",
       "    <tr>\n",
       "      <th>9</th>\n",
       "      <td>Household</td>\n",
       "      <td>314 DRISCOLL ST</td>\n",
       "      <td>WOODSBORO</td>\n",
       "      <td>TX</td>\n",
       "      <td>78393.0</td>\n",
       "      <td>99357.0</td>\n",
       "    </tr>\n",
       "    <tr>\n",
       "      <th>13</th>\n",
       "      <td>Household</td>\n",
       "      <td>3301 MEADOWLANE ST</td>\n",
       "      <td>VICTORIA</td>\n",
       "      <td>TX</td>\n",
       "      <td>77901.0</td>\n",
       "      <td>55813.0</td>\n",
       "    </tr>\n",
       "  </tbody>\n",
       "</table>\n",
       "</div>"
      ],
      "text/plain": [
       "   applicant_type          Individual_Address Individual_City  \\\n",
       "0       Household            314 CUT OFF ROAD    PORT ARANSAS   \n",
       "2       Household          5901 HORIZON DRIVE  CORPUS CHRISTI   \n",
       "7       Household  1202 MESQUITE ST SPACE 546          FULTON   \n",
       "9       Household             314 DRISCOLL ST       WOODSBORO   \n",
       "13      Household          3301 MEADOWLANE ST        VICTORIA   \n",
       "\n",
       "   Individual_State  Individual_Zip  Orig_RE_Verified_Loss  \n",
       "0                TX         78373.0                58999.0  \n",
       "2                TX         78408.0                 2563.0  \n",
       "7                TX         78358.0                26823.0  \n",
       "9                TX         78393.0                99357.0  \n",
       "13               TX         77901.0                55813.0  "
      ]
     },
     "execution_count": 9,
     "metadata": {},
     "output_type": "execute_result"
    }
   ],
   "source": [
    "damage_data.head()"
   ]
  },
  {
   "cell_type": "code",
   "execution_count": 14,
   "metadata": {},
   "outputs": [],
   "source": [
    "client = GeocodioClient(\"0c410ad5ac00a2e7a055ade70475c465605a6ed\")"
   ]
  },
  {
   "cell_type": "code",
   "execution_count": 17,
   "metadata": {},
   "outputs": [],
   "source": [
    "geocoded_location = client.geocode(\"1202 MESQUITE ST SPACE 546, FULTON, TX\")"
   ]
  },
  {
   "cell_type": "code",
   "execution_count": 20,
   "metadata": {},
   "outputs": [
    {
     "data": {
      "text/plain": [
       "{'address_components': {'number': '1202',\n",
       "  'street': 'Mesquite',\n",
       "  'suffix': 'St',\n",
       "  'formatted_street': 'Mesquite St',\n",
       "  'city': 'Fulton',\n",
       "  'county': 'Aransas County',\n",
       "  'state': 'TX',\n",
       "  'zip': '78358',\n",
       "  'country': 'US'},\n",
       " 'formatted_address': '1202 Mesquite St, Fulton, TX 78358',\n",
       " 'location': {'lat': 28.066802, 'lng': -97.045522},\n",
       " 'accuracy': 1,\n",
       " 'accuracy_type': 'rooftop',\n",
       " 'source': 'Statewide Partial'}"
      ]
     },
     "execution_count": 20,
     "metadata": {},
     "output_type": "execute_result"
    }
   ],
   "source": [
    "geocoded_location.best_match"
   ]
  },
  {
   "cell_type": "code",
   "execution_count": 21,
   "metadata": {},
   "outputs": [
    {
     "data": {
      "text/plain": [
       "1"
      ]
     },
     "execution_count": 21,
     "metadata": {},
     "output_type": "execute_result"
    }
   ],
   "source": [
    "geocoded_location.accuracy"
   ]
  },
  {
   "cell_type": "code",
   "execution_count": 35,
   "metadata": {},
   "outputs": [],
   "source": [
    "count = 0\n",
    "def geocode(x):\n",
    "    global count\n",
    "    count+=1\n",
    "    if count % 100 == 0:\n",
    "        print(count)\n",
    "    str_address = x.Individual_Address + \", \" + x.Individual_City + \", \" + x.Individual_State + \", \" + str(int(x.Individual_Zip))\n",
    "    geocoded_location = client.geocode(str_address)\n",
    "    return((geocoded_location.coords, geocoded_location.best_match['formatted_address'], geocoded_location.accuracy,\n",
    "            geocoded_location.best_match['accuracy_type']))"
   ]
  },
  {
   "cell_type": "code",
   "execution_count": 36,
   "metadata": {},
   "outputs": [
    {
     "name": "stdout",
     "output_type": "stream",
     "text": [
      "100\n",
      "200\n",
      "300\n",
      "400\n",
      "500\n",
      "600\n",
      "700\n",
      "800\n",
      "900\n",
      "1000\n",
      "1100\n",
      "1200\n",
      "1300\n",
      "1400\n",
      "1500\n",
      "1600\n",
      "1700\n",
      "1800\n",
      "1900\n",
      "2000\n",
      "2100\n",
      "2200\n",
      "2300\n",
      "2400\n"
     ]
    },
    {
     "ename": "GeocodioAuthError",
     "evalue": "",
     "output_type": "error",
     "traceback": [
      "\u001b[0;31m---------------------------------------------------------------------------\u001b[0m",
      "\u001b[0;31mGeocodioAuthError\u001b[0m                         Traceback (most recent call last)",
      "\u001b[0;32m<ipython-input-36-069d7517458e>\u001b[0m in \u001b[0;36m<module>\u001b[0;34m\u001b[0m\n\u001b[0;32m----> 1\u001b[0;31m \u001b[0mdamage_data\u001b[0m\u001b[0;34m[\u001b[0m\u001b[0;34m[\u001b[0m\u001b[0;34m'coordinates'\u001b[0m\u001b[0;34m,\u001b[0m \u001b[0;34m'formatted_address'\u001b[0m\u001b[0;34m,\u001b[0m \u001b[0;34m'accuracy'\u001b[0m\u001b[0;34m,\u001b[0m \u001b[0;34m'accuracy_type'\u001b[0m\u001b[0;34m]\u001b[0m\u001b[0;34m]\u001b[0m \u001b[0;34m=\u001b[0m \u001b[0mdamage_data\u001b[0m\u001b[0;34m.\u001b[0m\u001b[0mapply\u001b[0m\u001b[0;34m(\u001b[0m\u001b[0;32mlambda\u001b[0m \u001b[0mx\u001b[0m\u001b[0;34m:\u001b[0m \u001b[0mgeocode\u001b[0m\u001b[0;34m(\u001b[0m\u001b[0mx\u001b[0m\u001b[0;34m)\u001b[0m\u001b[0;34m,\u001b[0m \u001b[0maxis\u001b[0m\u001b[0;34m=\u001b[0m\u001b[0;36m1\u001b[0m\u001b[0;34m,\u001b[0m \u001b[0mresult_type\u001b[0m\u001b[0;34m=\u001b[0m\u001b[0;34m'expand'\u001b[0m\u001b[0;34m)\u001b[0m\u001b[0;34m\u001b[0m\u001b[0;34m\u001b[0m\u001b[0m\n\u001b[0m",
      "\u001b[0;32m~/anaconda3/envs/hurricane/lib/python3.6/site-packages/pandas/core/frame.py\u001b[0m in \u001b[0;36mapply\u001b[0;34m(self, func, axis, raw, result_type, args, **kwds)\u001b[0m\n\u001b[1;32m   6876\u001b[0m             \u001b[0mkwds\u001b[0m\u001b[0;34m=\u001b[0m\u001b[0mkwds\u001b[0m\u001b[0;34m,\u001b[0m\u001b[0;34m\u001b[0m\u001b[0;34m\u001b[0m\u001b[0m\n\u001b[1;32m   6877\u001b[0m         )\n\u001b[0;32m-> 6878\u001b[0;31m         \u001b[0;32mreturn\u001b[0m \u001b[0mop\u001b[0m\u001b[0;34m.\u001b[0m\u001b[0mget_result\u001b[0m\u001b[0;34m(\u001b[0m\u001b[0;34m)\u001b[0m\u001b[0;34m\u001b[0m\u001b[0;34m\u001b[0m\u001b[0m\n\u001b[0m\u001b[1;32m   6879\u001b[0m \u001b[0;34m\u001b[0m\u001b[0m\n\u001b[1;32m   6880\u001b[0m     \u001b[0;32mdef\u001b[0m \u001b[0mapplymap\u001b[0m\u001b[0;34m(\u001b[0m\u001b[0mself\u001b[0m\u001b[0;34m,\u001b[0m \u001b[0mfunc\u001b[0m\u001b[0;34m)\u001b[0m \u001b[0;34m->\u001b[0m \u001b[0;34m\"DataFrame\"\u001b[0m\u001b[0;34m:\u001b[0m\u001b[0;34m\u001b[0m\u001b[0;34m\u001b[0m\u001b[0m\n",
      "\u001b[0;32m~/anaconda3/envs/hurricane/lib/python3.6/site-packages/pandas/core/apply.py\u001b[0m in \u001b[0;36mget_result\u001b[0;34m(self)\u001b[0m\n\u001b[1;32m    184\u001b[0m             \u001b[0;32mreturn\u001b[0m \u001b[0mself\u001b[0m\u001b[0;34m.\u001b[0m\u001b[0mapply_raw\u001b[0m\u001b[0;34m(\u001b[0m\u001b[0;34m)\u001b[0m\u001b[0;34m\u001b[0m\u001b[0;34m\u001b[0m\u001b[0m\n\u001b[1;32m    185\u001b[0m \u001b[0;34m\u001b[0m\u001b[0m\n\u001b[0;32m--> 186\u001b[0;31m         \u001b[0;32mreturn\u001b[0m \u001b[0mself\u001b[0m\u001b[0;34m.\u001b[0m\u001b[0mapply_standard\u001b[0m\u001b[0;34m(\u001b[0m\u001b[0;34m)\u001b[0m\u001b[0;34m\u001b[0m\u001b[0;34m\u001b[0m\u001b[0m\n\u001b[0m\u001b[1;32m    187\u001b[0m \u001b[0;34m\u001b[0m\u001b[0m\n\u001b[1;32m    188\u001b[0m     \u001b[0;32mdef\u001b[0m \u001b[0mapply_empty_result\u001b[0m\u001b[0;34m(\u001b[0m\u001b[0mself\u001b[0m\u001b[0;34m)\u001b[0m\u001b[0;34m:\u001b[0m\u001b[0;34m\u001b[0m\u001b[0;34m\u001b[0m\u001b[0m\n",
      "\u001b[0;32m~/anaconda3/envs/hurricane/lib/python3.6/site-packages/pandas/core/apply.py\u001b[0m in \u001b[0;36mapply_standard\u001b[0;34m(self)\u001b[0m\n\u001b[1;32m    311\u001b[0m \u001b[0;34m\u001b[0m\u001b[0m\n\u001b[1;32m    312\u001b[0m         \u001b[0;31m# compute the result using the series generator\u001b[0m\u001b[0;34m\u001b[0m\u001b[0;34m\u001b[0m\u001b[0;34m\u001b[0m\u001b[0m\n\u001b[0;32m--> 313\u001b[0;31m         \u001b[0mresults\u001b[0m\u001b[0;34m,\u001b[0m \u001b[0mres_index\u001b[0m \u001b[0;34m=\u001b[0m \u001b[0mself\u001b[0m\u001b[0;34m.\u001b[0m\u001b[0mapply_series_generator\u001b[0m\u001b[0;34m(\u001b[0m\u001b[0;34m)\u001b[0m\u001b[0;34m\u001b[0m\u001b[0;34m\u001b[0m\u001b[0m\n\u001b[0m\u001b[1;32m    314\u001b[0m \u001b[0;34m\u001b[0m\u001b[0m\n\u001b[1;32m    315\u001b[0m         \u001b[0;31m# wrap results\u001b[0m\u001b[0;34m\u001b[0m\u001b[0;34m\u001b[0m\u001b[0;34m\u001b[0m\u001b[0m\n",
      "\u001b[0;32m~/anaconda3/envs/hurricane/lib/python3.6/site-packages/pandas/core/apply.py\u001b[0m in \u001b[0;36mapply_series_generator\u001b[0;34m(self)\u001b[0m\n\u001b[1;32m    339\u001b[0m         \u001b[0;32melse\u001b[0m\u001b[0;34m:\u001b[0m\u001b[0;34m\u001b[0m\u001b[0;34m\u001b[0m\u001b[0m\n\u001b[1;32m    340\u001b[0m             \u001b[0;32mfor\u001b[0m \u001b[0mi\u001b[0m\u001b[0;34m,\u001b[0m \u001b[0mv\u001b[0m \u001b[0;32min\u001b[0m \u001b[0menumerate\u001b[0m\u001b[0;34m(\u001b[0m\u001b[0mseries_gen\u001b[0m\u001b[0;34m)\u001b[0m\u001b[0;34m:\u001b[0m\u001b[0;34m\u001b[0m\u001b[0;34m\u001b[0m\u001b[0m\n\u001b[0;32m--> 341\u001b[0;31m                 \u001b[0mresults\u001b[0m\u001b[0;34m[\u001b[0m\u001b[0mi\u001b[0m\u001b[0;34m]\u001b[0m \u001b[0;34m=\u001b[0m \u001b[0mself\u001b[0m\u001b[0;34m.\u001b[0m\u001b[0mf\u001b[0m\u001b[0;34m(\u001b[0m\u001b[0mv\u001b[0m\u001b[0;34m)\u001b[0m\u001b[0;34m\u001b[0m\u001b[0;34m\u001b[0m\u001b[0m\n\u001b[0m\u001b[1;32m    342\u001b[0m                 \u001b[0mkeys\u001b[0m\u001b[0;34m.\u001b[0m\u001b[0mappend\u001b[0m\u001b[0;34m(\u001b[0m\u001b[0mv\u001b[0m\u001b[0;34m.\u001b[0m\u001b[0mname\u001b[0m\u001b[0;34m)\u001b[0m\u001b[0;34m\u001b[0m\u001b[0;34m\u001b[0m\u001b[0m\n\u001b[1;32m    343\u001b[0m \u001b[0;34m\u001b[0m\u001b[0m\n",
      "\u001b[0;32m<ipython-input-36-069d7517458e>\u001b[0m in \u001b[0;36m<lambda>\u001b[0;34m(x)\u001b[0m\n\u001b[0;32m----> 1\u001b[0;31m \u001b[0mdamage_data\u001b[0m\u001b[0;34m[\u001b[0m\u001b[0;34m[\u001b[0m\u001b[0;34m'coordinates'\u001b[0m\u001b[0;34m,\u001b[0m \u001b[0;34m'formatted_address'\u001b[0m\u001b[0;34m,\u001b[0m \u001b[0;34m'accuracy'\u001b[0m\u001b[0;34m,\u001b[0m \u001b[0;34m'accuracy_type'\u001b[0m\u001b[0;34m]\u001b[0m\u001b[0;34m]\u001b[0m \u001b[0;34m=\u001b[0m \u001b[0mdamage_data\u001b[0m\u001b[0;34m.\u001b[0m\u001b[0mapply\u001b[0m\u001b[0;34m(\u001b[0m\u001b[0;32mlambda\u001b[0m \u001b[0mx\u001b[0m\u001b[0;34m:\u001b[0m \u001b[0mgeocode\u001b[0m\u001b[0;34m(\u001b[0m\u001b[0mx\u001b[0m\u001b[0;34m)\u001b[0m\u001b[0;34m,\u001b[0m \u001b[0maxis\u001b[0m\u001b[0;34m=\u001b[0m\u001b[0;36m1\u001b[0m\u001b[0;34m,\u001b[0m \u001b[0mresult_type\u001b[0m\u001b[0;34m=\u001b[0m\u001b[0;34m'expand'\u001b[0m\u001b[0;34m)\u001b[0m\u001b[0;34m\u001b[0m\u001b[0;34m\u001b[0m\u001b[0m\n\u001b[0m",
      "\u001b[0;32m<ipython-input-35-7f872ce6db4c>\u001b[0m in \u001b[0;36mgeocode\u001b[0;34m(x)\u001b[0m\n\u001b[1;32m      6\u001b[0m         \u001b[0mprint\u001b[0m\u001b[0;34m(\u001b[0m\u001b[0mcount\u001b[0m\u001b[0;34m)\u001b[0m\u001b[0;34m\u001b[0m\u001b[0;34m\u001b[0m\u001b[0m\n\u001b[1;32m      7\u001b[0m     \u001b[0mstr_address\u001b[0m \u001b[0;34m=\u001b[0m \u001b[0mx\u001b[0m\u001b[0;34m.\u001b[0m\u001b[0mIndividual_Address\u001b[0m \u001b[0;34m+\u001b[0m \u001b[0;34m\", \"\u001b[0m \u001b[0;34m+\u001b[0m \u001b[0mx\u001b[0m\u001b[0;34m.\u001b[0m\u001b[0mIndividual_City\u001b[0m \u001b[0;34m+\u001b[0m \u001b[0;34m\", \"\u001b[0m \u001b[0;34m+\u001b[0m \u001b[0mx\u001b[0m\u001b[0;34m.\u001b[0m\u001b[0mIndividual_State\u001b[0m \u001b[0;34m+\u001b[0m \u001b[0;34m\", \"\u001b[0m \u001b[0;34m+\u001b[0m \u001b[0mstr\u001b[0m\u001b[0;34m(\u001b[0m\u001b[0mint\u001b[0m\u001b[0;34m(\u001b[0m\u001b[0mx\u001b[0m\u001b[0;34m.\u001b[0m\u001b[0mIndividual_Zip\u001b[0m\u001b[0;34m)\u001b[0m\u001b[0;34m)\u001b[0m\u001b[0;34m\u001b[0m\u001b[0;34m\u001b[0m\u001b[0m\n\u001b[0;32m----> 8\u001b[0;31m     \u001b[0mgeocoded_location\u001b[0m \u001b[0;34m=\u001b[0m \u001b[0mclient\u001b[0m\u001b[0;34m.\u001b[0m\u001b[0mgeocode\u001b[0m\u001b[0;34m(\u001b[0m\u001b[0mstr_address\u001b[0m\u001b[0;34m)\u001b[0m\u001b[0;34m\u001b[0m\u001b[0;34m\u001b[0m\u001b[0m\n\u001b[0m\u001b[1;32m      9\u001b[0m     return((geocoded_location.coords, geocoded_location.best_match['formatted_address'], geocoded_location.accuracy,\n\u001b[1;32m     10\u001b[0m             geocoded_location.best_match['accuracy_type']))\n",
      "\u001b[0;32m~/anaconda3/envs/hurricane/lib/python3.6/site-packages/geocodio/client.py\u001b[0m in \u001b[0;36mwrapper\u001b[0;34m(*args, **kwargs)\u001b[0m\n\u001b[1;32m     42\u001b[0m                 \u001b[0;32mraise\u001b[0m \u001b[0mValueError\u001b[0m\u001b[0;34m(\u001b[0m\u001b[0;34m\"'{0}' is not a valid field value\"\u001b[0m\u001b[0;34m.\u001b[0m\u001b[0mformat\u001b[0m\u001b[0;34m(\u001b[0m\u001b[0mfield\u001b[0m\u001b[0;34m)\u001b[0m\u001b[0;34m)\u001b[0m\u001b[0;34m\u001b[0m\u001b[0;34m\u001b[0m\u001b[0m\n\u001b[1;32m     43\u001b[0m \u001b[0;34m\u001b[0m\u001b[0m\n\u001b[0;32m---> 44\u001b[0;31m         \u001b[0;32mreturn\u001b[0m \u001b[0mf\u001b[0m\u001b[0;34m(\u001b[0m\u001b[0;34m*\u001b[0m\u001b[0margs\u001b[0m\u001b[0;34m,\u001b[0m \u001b[0;34m**\u001b[0m\u001b[0mkwargs\u001b[0m\u001b[0;34m)\u001b[0m\u001b[0;34m\u001b[0m\u001b[0;34m\u001b[0m\u001b[0m\n\u001b[0m\u001b[1;32m     45\u001b[0m \u001b[0;34m\u001b[0m\u001b[0m\n\u001b[1;32m     46\u001b[0m     \u001b[0;32mreturn\u001b[0m \u001b[0mwrapper\u001b[0m\u001b[0;34m\u001b[0m\u001b[0;34m\u001b[0m\u001b[0m\n",
      "\u001b[0;32m~/anaconda3/envs/hurricane/lib/python3.6/site-packages/geocodio/client.py\u001b[0m in \u001b[0;36mgeocode\u001b[0;34m(self, address_data, components_data, **kwargs)\u001b[0m\n\u001b[1;32m    234\u001b[0m                 \u001b[0mparam_key\u001b[0m \u001b[0;34m=\u001b[0m \u001b[0;34m'address'\u001b[0m \u001b[0;32mif\u001b[0m \u001b[0maddress_data\u001b[0m \u001b[0;32mis\u001b[0m \u001b[0;32mnot\u001b[0m \u001b[0;32mNone\u001b[0m \u001b[0;32melse\u001b[0m \u001b[0;34m'components'\u001b[0m\u001b[0;34m\u001b[0m\u001b[0;34m\u001b[0m\u001b[0m\n\u001b[1;32m    235\u001b[0m                 \u001b[0mkwargs\u001b[0m\u001b[0;34m.\u001b[0m\u001b[0mupdate\u001b[0m\u001b[0;34m(\u001b[0m\u001b[0;34m{\u001b[0m\u001b[0mparam_key\u001b[0m\u001b[0;34m:\u001b[0m \u001b[0mparam_data\u001b[0m\u001b[0;34m}\u001b[0m\u001b[0;34m)\u001b[0m\u001b[0;34m\u001b[0m\u001b[0;34m\u001b[0m\u001b[0m\n\u001b[0;32m--> 236\u001b[0;31m                 \u001b[0;32mreturn\u001b[0m \u001b[0mself\u001b[0m\u001b[0;34m.\u001b[0m\u001b[0mgeocode_address\u001b[0m\u001b[0;34m(\u001b[0m\u001b[0;34m**\u001b[0m\u001b[0mkwargs\u001b[0m\u001b[0;34m)\u001b[0m\u001b[0;34m\u001b[0m\u001b[0;34m\u001b[0m\u001b[0m\n\u001b[0m\u001b[1;32m    237\u001b[0m \u001b[0;34m\u001b[0m\u001b[0m\n\u001b[1;32m    238\u001b[0m     \u001b[0;34m@\u001b[0m\u001b[0mprotect_fields\u001b[0m\u001b[0;34m\u001b[0m\u001b[0;34m\u001b[0m\u001b[0m\n",
      "\u001b[0;32m~/anaconda3/envs/hurricane/lib/python3.6/site-packages/geocodio/client.py\u001b[0m in \u001b[0;36mwrapper\u001b[0;34m(*args, **kwargs)\u001b[0m\n\u001b[1;32m     42\u001b[0m                 \u001b[0;32mraise\u001b[0m \u001b[0mValueError\u001b[0m\u001b[0;34m(\u001b[0m\u001b[0;34m\"'{0}' is not a valid field value\"\u001b[0m\u001b[0;34m.\u001b[0m\u001b[0mformat\u001b[0m\u001b[0;34m(\u001b[0m\u001b[0mfield\u001b[0m\u001b[0;34m)\u001b[0m\u001b[0;34m)\u001b[0m\u001b[0;34m\u001b[0m\u001b[0;34m\u001b[0m\u001b[0m\n\u001b[1;32m     43\u001b[0m \u001b[0;34m\u001b[0m\u001b[0m\n\u001b[0;32m---> 44\u001b[0;31m         \u001b[0;32mreturn\u001b[0m \u001b[0mf\u001b[0m\u001b[0;34m(\u001b[0m\u001b[0;34m*\u001b[0m\u001b[0margs\u001b[0m\u001b[0;34m,\u001b[0m \u001b[0;34m**\u001b[0m\u001b[0mkwargs\u001b[0m\u001b[0;34m)\u001b[0m\u001b[0;34m\u001b[0m\u001b[0;34m\u001b[0m\u001b[0m\n\u001b[0m\u001b[1;32m     45\u001b[0m \u001b[0;34m\u001b[0m\u001b[0m\n\u001b[1;32m     46\u001b[0m     \u001b[0;32mreturn\u001b[0m \u001b[0mwrapper\u001b[0m\u001b[0;34m\u001b[0m\u001b[0;34m\u001b[0m\u001b[0m\n",
      "\u001b[0;32m~/anaconda3/envs/hurricane/lib/python3.6/site-packages/geocodio/client.py\u001b[0m in \u001b[0;36mgeocode_address\u001b[0;34m(self, address, components, **kwargs)\u001b[0m\n\u001b[1;32m    215\u001b[0m         \u001b[0mresponse\u001b[0m \u001b[0;34m=\u001b[0m \u001b[0mself\u001b[0m\u001b[0;34m.\u001b[0m\u001b[0m_req\u001b[0m\u001b[0;34m(\u001b[0m\u001b[0mverb\u001b[0m\u001b[0;34m=\u001b[0m\u001b[0;34m\"geocode\"\u001b[0m\u001b[0;34m,\u001b[0m \u001b[0mparams\u001b[0m\u001b[0;34m=\u001b[0m\u001b[0mparams\u001b[0m\u001b[0;34m)\u001b[0m\u001b[0;34m\u001b[0m\u001b[0;34m\u001b[0m\u001b[0m\n\u001b[1;32m    216\u001b[0m         \u001b[0;32mif\u001b[0m \u001b[0mresponse\u001b[0m\u001b[0;34m.\u001b[0m\u001b[0mstatus_code\u001b[0m \u001b[0;34m!=\u001b[0m \u001b[0;36m200\u001b[0m\u001b[0;34m:\u001b[0m\u001b[0;34m\u001b[0m\u001b[0;34m\u001b[0m\u001b[0m\n\u001b[0;32m--> 217\u001b[0;31m             \u001b[0;32mreturn\u001b[0m \u001b[0merror_response\u001b[0m\u001b[0;34m(\u001b[0m\u001b[0mresponse\u001b[0m\u001b[0;34m)\u001b[0m\u001b[0;34m\u001b[0m\u001b[0;34m\u001b[0m\u001b[0m\n\u001b[0m\u001b[1;32m    218\u001b[0m \u001b[0;34m\u001b[0m\u001b[0m\n\u001b[1;32m    219\u001b[0m         \u001b[0;32mreturn\u001b[0m \u001b[0mLocation\u001b[0m\u001b[0;34m(\u001b[0m\u001b[0mresponse\u001b[0m\u001b[0;34m.\u001b[0m\u001b[0mjson\u001b[0m\u001b[0;34m(\u001b[0m\u001b[0;34m)\u001b[0m\u001b[0;34m)\u001b[0m\u001b[0;34m\u001b[0m\u001b[0;34m\u001b[0m\u001b[0m\n",
      "\u001b[0;32m~/anaconda3/envs/hurricane/lib/python3.6/site-packages/geocodio/client.py\u001b[0m in \u001b[0;36merror_response\u001b[0;34m(response)\u001b[0m\n\u001b[1;32m     55\u001b[0m \u001b[0;34m\u001b[0m\u001b[0m\n\u001b[1;32m     56\u001b[0m     \u001b[0;32melif\u001b[0m \u001b[0mresponse\u001b[0m\u001b[0;34m.\u001b[0m\u001b[0mstatus_code\u001b[0m \u001b[0;34m==\u001b[0m \u001b[0;36m403\u001b[0m\u001b[0;34m:\u001b[0m\u001b[0;34m\u001b[0m\u001b[0;34m\u001b[0m\u001b[0m\n\u001b[0;32m---> 57\u001b[0;31m         \u001b[0;32mraise\u001b[0m \u001b[0mexceptions\u001b[0m\u001b[0;34m.\u001b[0m\u001b[0mGeocodioAuthError\u001b[0m\u001b[0;34m\u001b[0m\u001b[0;34m\u001b[0m\u001b[0m\n\u001b[0m\u001b[1;32m     58\u001b[0m \u001b[0;34m\u001b[0m\u001b[0m\n\u001b[1;32m     59\u001b[0m     \u001b[0;32melif\u001b[0m \u001b[0mresponse\u001b[0m\u001b[0;34m.\u001b[0m\u001b[0mstatus_code\u001b[0m \u001b[0;34m==\u001b[0m \u001b[0;36m422\u001b[0m\u001b[0;34m:\u001b[0m\u001b[0;34m\u001b[0m\u001b[0;34m\u001b[0m\u001b[0m\n",
      "\u001b[0;31mGeocodioAuthError\u001b[0m: "
     ]
    }
   ],
   "source": [
    "damage_data[['coordinates', 'formatted_address', 'accuracy', 'accuracy_type']] = damage_data.apply(lambda x: geocode(x), axis=1, result_type='expand')"
   ]
  },
  {
   "cell_type": "code",
   "execution_count": 37,
   "metadata": {
    "scrolled": true
   },
   "outputs": [
    {
     "data": {
      "text/html": [
       "<div>\n",
       "<style scoped>\n",
       "    .dataframe tbody tr th:only-of-type {\n",
       "        vertical-align: middle;\n",
       "    }\n",
       "\n",
       "    .dataframe tbody tr th {\n",
       "        vertical-align: top;\n",
       "    }\n",
       "\n",
       "    .dataframe thead th {\n",
       "        text-align: right;\n",
       "    }\n",
       "</style>\n",
       "<table border=\"1\" class=\"dataframe\">\n",
       "  <thead>\n",
       "    <tr style=\"text-align: right;\">\n",
       "      <th></th>\n",
       "      <th>applicant_type</th>\n",
       "      <th>Individual_Address</th>\n",
       "      <th>Individual_City</th>\n",
       "      <th>Individual_State</th>\n",
       "      <th>Individual_Zip</th>\n",
       "      <th>Orig_RE_Verified_Loss</th>\n",
       "    </tr>\n",
       "  </thead>\n",
       "  <tbody>\n",
       "    <tr>\n",
       "      <th>0</th>\n",
       "      <td>Household</td>\n",
       "      <td>314 CUT OFF ROAD</td>\n",
       "      <td>PORT ARANSAS</td>\n",
       "      <td>TX</td>\n",
       "      <td>78373.0</td>\n",
       "      <td>58999.0</td>\n",
       "    </tr>\n",
       "    <tr>\n",
       "      <th>2</th>\n",
       "      <td>Household</td>\n",
       "      <td>5901 HORIZON DRIVE</td>\n",
       "      <td>CORPUS CHRISTI</td>\n",
       "      <td>TX</td>\n",
       "      <td>78408.0</td>\n",
       "      <td>2563.0</td>\n",
       "    </tr>\n",
       "    <tr>\n",
       "      <th>7</th>\n",
       "      <td>Household</td>\n",
       "      <td>1202 MESQUITE ST SPACE 546</td>\n",
       "      <td>FULTON</td>\n",
       "      <td>TX</td>\n",
       "      <td>78358.0</td>\n",
       "      <td>26823.0</td>\n",
       "    </tr>\n",
       "    <tr>\n",
       "      <th>9</th>\n",
       "      <td>Household</td>\n",
       "      <td>314 DRISCOLL ST</td>\n",
       "      <td>WOODSBORO</td>\n",
       "      <td>TX</td>\n",
       "      <td>78393.0</td>\n",
       "      <td>99357.0</td>\n",
       "    </tr>\n",
       "    <tr>\n",
       "      <th>13</th>\n",
       "      <td>Household</td>\n",
       "      <td>3301 MEADOWLANE ST</td>\n",
       "      <td>VICTORIA</td>\n",
       "      <td>TX</td>\n",
       "      <td>77901.0</td>\n",
       "      <td>55813.0</td>\n",
       "    </tr>\n",
       "  </tbody>\n",
       "</table>\n",
       "</div>"
      ],
      "text/plain": [
       "   applicant_type          Individual_Address Individual_City  \\\n",
       "0       Household            314 CUT OFF ROAD    PORT ARANSAS   \n",
       "2       Household          5901 HORIZON DRIVE  CORPUS CHRISTI   \n",
       "7       Household  1202 MESQUITE ST SPACE 546          FULTON   \n",
       "9       Household             314 DRISCOLL ST       WOODSBORO   \n",
       "13      Household          3301 MEADOWLANE ST        VICTORIA   \n",
       "\n",
       "   Individual_State  Individual_Zip  Orig_RE_Verified_Loss  \n",
       "0                TX         78373.0                58999.0  \n",
       "2                TX         78408.0                 2563.0  \n",
       "7                TX         78358.0                26823.0  \n",
       "9                TX         78393.0                99357.0  \n",
       "13               TX         77901.0                55813.0  "
      ]
     },
     "execution_count": 37,
     "metadata": {},
     "output_type": "execute_result"
    }
   ],
   "source": [
    "damage_data.head()"
   ]
  },
  {
   "cell_type": "code",
   "execution_count": 80,
   "metadata": {},
   "outputs": [
    {
     "data": {
      "text/plain": [
       "53565"
      ]
     },
     "execution_count": 80,
     "metadata": {},
     "output_type": "execute_result"
    }
   ],
   "source": [
    "len(damage_data)"
   ]
  },
  {
   "cell_type": "code",
   "execution_count": 30,
   "metadata": {},
   "outputs": [],
   "source": [
    "small = damage_data.head(10)"
   ]
  },
  {
   "cell_type": "code",
   "execution_count": 32,
   "metadata": {},
   "outputs": [
    {
     "name": "stdout",
     "output_type": "stream",
     "text": [
      "314 CUT OFF ROAD, PORT ARANSAS, TX, 78373\n",
      "5901 HORIZON DRIVE, CORPUS CHRISTI, TX, 78408\n",
      "1202 MESQUITE ST SPACE 546, FULTON, TX, 78358\n",
      "314 DRISCOLL ST, WOODSBORO, TX, 78393\n",
      "3301 MEADOWLANE ST, VICTORIA, TX, 77901\n",
      "189 PRESA ST, BEEVILLE, TX, 78102\n",
      "7403 SEMINOLE ST, BAYTOWN, TX, 77521\n",
      "291 COUNTY ROAD   # 4801, DAYTON, TX, 77535\n",
      "3060 LENORE AVE, INGLESIDE, TX, 78362\n",
      "708 RHINEGOLD ST, VICTORIA, TX, 77901\n"
     ]
    },
    {
     "name": "stderr",
     "output_type": "stream",
     "text": [
      "/Users/shubham/anaconda3/envs/hurricane/lib/python3.6/site-packages/pandas/core/frame.py:2963: SettingWithCopyWarning: \n",
      "A value is trying to be set on a copy of a slice from a DataFrame.\n",
      "Try using .loc[row_indexer,col_indexer] = value instead\n",
      "\n",
      "See the caveats in the documentation: https://pandas.pydata.org/pandas-docs/stable/user_guide/indexing.html#returning-a-view-versus-a-copy\n",
      "  self[k1] = value[k2]\n"
     ]
    }
   ],
   "source": [
    "small[['coordinates', 'formatted_address', 'accuracy']] = small.apply(lambda x: geocode(x), axis=1, result_type='expand')"
   ]
  },
  {
   "cell_type": "code",
   "execution_count": 33,
   "metadata": {},
   "outputs": [
    {
     "data": {
      "text/html": [
       "<div>\n",
       "<style scoped>\n",
       "    .dataframe tbody tr th:only-of-type {\n",
       "        vertical-align: middle;\n",
       "    }\n",
       "\n",
       "    .dataframe tbody tr th {\n",
       "        vertical-align: top;\n",
       "    }\n",
       "\n",
       "    .dataframe thead th {\n",
       "        text-align: right;\n",
       "    }\n",
       "</style>\n",
       "<table border=\"1\" class=\"dataframe\">\n",
       "  <thead>\n",
       "    <tr style=\"text-align: right;\">\n",
       "      <th></th>\n",
       "      <th>applicant_type</th>\n",
       "      <th>Individual_Address</th>\n",
       "      <th>Individual_City</th>\n",
       "      <th>Individual_State</th>\n",
       "      <th>Individual_Zip</th>\n",
       "      <th>Orig_RE_Verified_Loss</th>\n",
       "      <th>coordinates</th>\n",
       "      <th>formatted_address</th>\n",
       "      <th>accuracy</th>\n",
       "    </tr>\n",
       "  </thead>\n",
       "  <tbody>\n",
       "    <tr>\n",
       "      <th>0</th>\n",
       "      <td>Household</td>\n",
       "      <td>314 CUT OFF ROAD</td>\n",
       "      <td>PORT ARANSAS</td>\n",
       "      <td>TX</td>\n",
       "      <td>78373.0</td>\n",
       "      <td>58999.0</td>\n",
       "      <td>(27.835148, -97.070685)</td>\n",
       "      <td>314 Cut-off Rd, Port Aransas, TX 78373</td>\n",
       "      <td>1</td>\n",
       "    </tr>\n",
       "    <tr>\n",
       "      <th>2</th>\n",
       "      <td>Household</td>\n",
       "      <td>5901 HORIZON DRIVE</td>\n",
       "      <td>CORPUS CHRISTI</td>\n",
       "      <td>TX</td>\n",
       "      <td>78408.0</td>\n",
       "      <td>2563.0</td>\n",
       "      <td>(27.801748, -97.478782)</td>\n",
       "      <td>5901 Horizon Dr, Corpus Christi, TX 78408</td>\n",
       "      <td>1</td>\n",
       "    </tr>\n",
       "    <tr>\n",
       "      <th>7</th>\n",
       "      <td>Household</td>\n",
       "      <td>1202 MESQUITE ST SPACE 546</td>\n",
       "      <td>FULTON</td>\n",
       "      <td>TX</td>\n",
       "      <td>78358.0</td>\n",
       "      <td>26823.0</td>\n",
       "      <td>(28.066802, -97.045522)</td>\n",
       "      <td>1202 Mesquite St, Fulton, TX 78358</td>\n",
       "      <td>1</td>\n",
       "    </tr>\n",
       "    <tr>\n",
       "      <th>9</th>\n",
       "      <td>Household</td>\n",
       "      <td>314 DRISCOLL ST</td>\n",
       "      <td>WOODSBORO</td>\n",
       "      <td>TX</td>\n",
       "      <td>78393.0</td>\n",
       "      <td>99357.0</td>\n",
       "      <td>(28.235368, -97.331629)</td>\n",
       "      <td>314 Driscoll St, Woodsboro, TX 78393</td>\n",
       "      <td>1</td>\n",
       "    </tr>\n",
       "    <tr>\n",
       "      <th>13</th>\n",
       "      <td>Household</td>\n",
       "      <td>3301 MEADOWLANE ST</td>\n",
       "      <td>VICTORIA</td>\n",
       "      <td>TX</td>\n",
       "      <td>77901.0</td>\n",
       "      <td>55813.0</td>\n",
       "      <td>(28.80527, -96.969475)</td>\n",
       "      <td>3301 Meadowlane St, Victoria, TX 77901</td>\n",
       "      <td>1</td>\n",
       "    </tr>\n",
       "    <tr>\n",
       "      <th>14</th>\n",
       "      <td>Household</td>\n",
       "      <td>189 PRESA ST</td>\n",
       "      <td>BEEVILLE</td>\n",
       "      <td>TX</td>\n",
       "      <td>78102.0</td>\n",
       "      <td>11663.0</td>\n",
       "      <td>(28.387516, -97.776074)</td>\n",
       "      <td>189 Presa St, Beeville, TX 78102</td>\n",
       "      <td>1</td>\n",
       "    </tr>\n",
       "    <tr>\n",
       "      <th>15</th>\n",
       "      <td>Household</td>\n",
       "      <td>7403 SEMINOLE ST</td>\n",
       "      <td>BAYTOWN</td>\n",
       "      <td>TX</td>\n",
       "      <td>77521.0</td>\n",
       "      <td>77560.0</td>\n",
       "      <td>(29.806424, -94.997548)</td>\n",
       "      <td>7403 Seminole St, Baytown, TX 77521</td>\n",
       "      <td>1</td>\n",
       "    </tr>\n",
       "    <tr>\n",
       "      <th>16</th>\n",
       "      <td>Household</td>\n",
       "      <td>291 COUNTY ROAD   # 4801</td>\n",
       "      <td>DAYTON</td>\n",
       "      <td>TX</td>\n",
       "      <td>77535.0</td>\n",
       "      <td>151920.0</td>\n",
       "      <td>(29.96275, -94.959057)</td>\n",
       "      <td>291 County Rd 4801, Dayton, TX 77535</td>\n",
       "      <td>1</td>\n",
       "    </tr>\n",
       "    <tr>\n",
       "      <th>17</th>\n",
       "      <td>Household</td>\n",
       "      <td>3060 LENORE AVE</td>\n",
       "      <td>INGLESIDE</td>\n",
       "      <td>TX</td>\n",
       "      <td>78362.0</td>\n",
       "      <td>52359.0</td>\n",
       "      <td>(27.876735, -97.190915)</td>\n",
       "      <td>3060 Lenore Ave, Ingleside, TX 78362</td>\n",
       "      <td>1</td>\n",
       "    </tr>\n",
       "    <tr>\n",
       "      <th>18</th>\n",
       "      <td>Household</td>\n",
       "      <td>708 RHINEGOLD ST</td>\n",
       "      <td>VICTORIA</td>\n",
       "      <td>TX</td>\n",
       "      <td>77901.0</td>\n",
       "      <td>28851.0</td>\n",
       "      <td>(28.792835, -97.016636)</td>\n",
       "      <td>708 Rhinegold St, Victoria, TX 77901</td>\n",
       "      <td>1</td>\n",
       "    </tr>\n",
       "  </tbody>\n",
       "</table>\n",
       "</div>"
      ],
      "text/plain": [
       "   applicant_type          Individual_Address Individual_City  \\\n",
       "0       Household            314 CUT OFF ROAD    PORT ARANSAS   \n",
       "2       Household          5901 HORIZON DRIVE  CORPUS CHRISTI   \n",
       "7       Household  1202 MESQUITE ST SPACE 546          FULTON   \n",
       "9       Household             314 DRISCOLL ST       WOODSBORO   \n",
       "13      Household          3301 MEADOWLANE ST        VICTORIA   \n",
       "14      Household                189 PRESA ST        BEEVILLE   \n",
       "15      Household            7403 SEMINOLE ST         BAYTOWN   \n",
       "16      Household    291 COUNTY ROAD   # 4801          DAYTON   \n",
       "17      Household             3060 LENORE AVE       INGLESIDE   \n",
       "18      Household            708 RHINEGOLD ST        VICTORIA   \n",
       "\n",
       "   Individual_State  Individual_Zip  Orig_RE_Verified_Loss  \\\n",
       "0                TX         78373.0                58999.0   \n",
       "2                TX         78408.0                 2563.0   \n",
       "7                TX         78358.0                26823.0   \n",
       "9                TX         78393.0                99357.0   \n",
       "13               TX         77901.0                55813.0   \n",
       "14               TX         78102.0                11663.0   \n",
       "15               TX         77521.0                77560.0   \n",
       "16               TX         77535.0               151920.0   \n",
       "17               TX         78362.0                52359.0   \n",
       "18               TX         77901.0                28851.0   \n",
       "\n",
       "                coordinates                          formatted_address  \\\n",
       "0   (27.835148, -97.070685)     314 Cut-off Rd, Port Aransas, TX 78373   \n",
       "2   (27.801748, -97.478782)  5901 Horizon Dr, Corpus Christi, TX 78408   \n",
       "7   (28.066802, -97.045522)         1202 Mesquite St, Fulton, TX 78358   \n",
       "9   (28.235368, -97.331629)       314 Driscoll St, Woodsboro, TX 78393   \n",
       "13   (28.80527, -96.969475)     3301 Meadowlane St, Victoria, TX 77901   \n",
       "14  (28.387516, -97.776074)           189 Presa St, Beeville, TX 78102   \n",
       "15  (29.806424, -94.997548)        7403 Seminole St, Baytown, TX 77521   \n",
       "16   (29.96275, -94.959057)       291 County Rd 4801, Dayton, TX 77535   \n",
       "17  (27.876735, -97.190915)       3060 Lenore Ave, Ingleside, TX 78362   \n",
       "18  (28.792835, -97.016636)       708 Rhinegold St, Victoria, TX 77901   \n",
       "\n",
       "    accuracy  \n",
       "0          1  \n",
       "2          1  \n",
       "7          1  \n",
       "9          1  \n",
       "13         1  \n",
       "14         1  \n",
       "15         1  \n",
       "16         1  \n",
       "17         1  \n",
       "18         1  "
      ]
     },
     "execution_count": 33,
     "metadata": {},
     "output_type": "execute_result"
    }
   ],
   "source": [
    "small"
   ]
  },
  {
   "cell_type": "markdown",
   "metadata": {},
   "source": [
    "# Loading geo-coded data"
   ]
  },
  {
   "cell_type": "code",
   "execution_count": 42,
   "metadata": {},
   "outputs": [],
   "source": [
    "data = pd.read_csv(\"data/geocoded_first_geocodio.csv\")"
   ]
  },
  {
   "cell_type": "code",
   "execution_count": 44,
   "metadata": {},
   "outputs": [
    {
     "ename": "TypeError",
     "evalue": "'<' not supported between instances of 'str' and 'float'",
     "output_type": "error",
     "traceback": [
      "\u001b[0;31m---------------------------------------------------------------------------\u001b[0m",
      "\u001b[0;31mTypeError\u001b[0m                                 Traceback (most recent call last)",
      "\u001b[0;32m<ipython-input-44-776ed3e33478>\u001b[0m in \u001b[0;36m<module>\u001b[0;34m\u001b[0m\n\u001b[0;32m----> 1\u001b[0;31m \u001b[0mdata\u001b[0m\u001b[0;34m[\u001b[0m\u001b[0mdata\u001b[0m\u001b[0;34m[\u001b[0m\u001b[0;34m'Accuracy Score'\u001b[0m\u001b[0;34m<\u001b[0m\u001b[0;36m1.0\u001b[0m\u001b[0;34m]\u001b[0m\u001b[0;34m]\u001b[0m\u001b[0;34m\u001b[0m\u001b[0;34m\u001b[0m\u001b[0m\n\u001b[0m",
      "\u001b[0;31mTypeError\u001b[0m: '<' not supported between instances of 'str' and 'float'"
     ]
    }
   ],
   "source": []
  },
  {
   "cell_type": "code",
   "execution_count": null,
   "metadata": {},
   "outputs": [],
   "source": []
  }
 ],
 "metadata": {
  "kernelspec": {
   "display_name": "Python 3",
   "language": "python",
   "name": "python3"
  },
  "language_info": {
   "codemirror_mode": {
    "name": "ipython",
    "version": 3
   },
   "file_extension": ".py",
   "mimetype": "text/x-python",
   "name": "python",
   "nbconvert_exporter": "python",
   "pygments_lexer": "ipython3",
   "version": "3.6.7"
  },
  "toc": {
   "base_numbering": 1,
   "nav_menu": {},
   "number_sections": true,
   "sideBar": true,
   "skip_h1_title": false,
   "title_cell": "Table of Contents",
   "title_sidebar": "Contents",
   "toc_cell": false,
   "toc_position": {},
   "toc_section_display": true,
   "toc_window_display": true
  },
  "varInspector": {
   "cols": {
    "lenName": 16,
    "lenType": 16,
    "lenVar": 40
   },
   "kernels_config": {
    "python": {
     "delete_cmd_postfix": "",
     "delete_cmd_prefix": "del ",
     "library": "var_list.py",
     "varRefreshCmd": "print(var_dic_list())"
    },
    "r": {
     "delete_cmd_postfix": ") ",
     "delete_cmd_prefix": "rm(",
     "library": "var_list.r",
     "varRefreshCmd": "cat(var_dic_list()) "
    }
   },
   "types_to_exclude": [
    "module",
    "function",
    "builtin_function_or_method",
    "instance",
    "_Feature"
   ],
   "window_display": false
  }
 },
 "nbformat": 4,
 "nbformat_minor": 4
}
